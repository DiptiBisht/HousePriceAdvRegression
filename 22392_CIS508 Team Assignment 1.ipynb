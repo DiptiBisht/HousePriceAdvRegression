{
 "cells": [
  {
   "cell_type": "code",
   "execution_count": 2,
   "id": "cc4f0f23",
   "metadata": {},
   "outputs": [],
   "source": [
    "from vecstack import stacking\n",
    "import pandas as pd\n",
    "import numpy as np\n",
    "from sklearn.metrics import accuracy_score #works\n",
    "from sklearn.model_selection import train_test_split\n",
    "from sklearn.ensemble import RandomForestClassifier\n",
    "from sklearn.tree import DecisionTreeClassifier\n",
    "from sklearn.model_selection import GridSearchCV\n",
    "from sklearn.model_selection import RandomizedSearchCV\n",
    "from sklearn.model_selection import cross_val_score\n",
    "from sklearn.metrics import classification_report, confusion_matrix\n",
    "from sklearn.ensemble import GradientBoostingClassifier\n",
    "from sklearn.neural_network import MLPClassifier\n",
    "#from sklearn.ensemble import RandomForestClassifier\n",
    "from imblearn.over_sampling import SMOTE \n",
    "from sklearn.svm import SVC\n",
    "from collections import Counter #for Smote, \n",
    "\n",
    "import warnings\n",
    "warnings.filterwarnings(\"ignore\")\n"
   ]
  },
  {
   "cell_type": "code",
   "execution_count": 4,
   "id": "560846ce",
   "metadata": {},
   "outputs": [
    {
     "name": "stdout",
     "output_type": "stream",
     "text": [
      "Shape of train data\n",
      "(1460, 81)\n",
      "(1459, 80)\n",
      "   Id  MSSubClass MSZoning  LotFrontage  LotArea Street Alley LotShape  \\\n",
      "0   1          60       RL         65.0     8450   Pave   NaN      Reg   \n",
      "1   2          20       RL         80.0     9600   Pave   NaN      Reg   \n",
      "2   3          60       RL         68.0    11250   Pave   NaN      IR1   \n",
      "3   4          70       RL         60.0     9550   Pave   NaN      IR1   \n",
      "4   5          60       RL         84.0    14260   Pave   NaN      IR1   \n",
      "\n",
      "  LandContour Utilities  ... PoolArea PoolQC Fence MiscFeature MiscVal MoSold  \\\n",
      "0         Lvl    AllPub  ...        0    NaN   NaN         NaN       0      2   \n",
      "1         Lvl    AllPub  ...        0    NaN   NaN         NaN       0      5   \n",
      "2         Lvl    AllPub  ...        0    NaN   NaN         NaN       0      9   \n",
      "3         Lvl    AllPub  ...        0    NaN   NaN         NaN       0      2   \n",
      "4         Lvl    AllPub  ...        0    NaN   NaN         NaN       0     12   \n",
      "\n",
      "  YrSold  SaleType  SaleCondition  SalePrice  \n",
      "0   2008        WD         Normal     208500  \n",
      "1   2007        WD         Normal     181500  \n",
      "2   2008        WD         Normal     223500  \n",
      "3   2006        WD        Abnorml     140000  \n",
      "4   2008        WD         Normal     250000  \n",
      "\n",
      "[5 rows x 81 columns]\n"
     ]
    }
   ],
   "source": [
    "\n",
    "trainfile = r'C:\\Users\\dipti\\Documents\\CIS508\\Team Assignment 1\\train.csv'\n",
    "train_data = pd.read_csv(trainfile)\n",
    "\n",
    "#train_data = pd.read_csv(\"C:/Users/admin/Downloads/Insurance Fraud - TRAIN-3000(1).csv\")\n",
    "\n",
    "\n",
    "testfile = r'C:\\Users\\dipti\\Documents\\CIS508\\Team Assignment 1\\test.csv'\n",
    "test_data = pd.read_csv(testfile)\n",
    "\n",
    "#test_data = pd.read_csv(\"C:/Users/admin/Downloads/Insurance Fraud -TEST-12900(1).csv\")\n",
    "\n",
    "print('Shape of train data')\n",
    "print(train_data.shape)\n",
    "print(test_data.shape)\n",
    "print(train_data.head())    \n"
   ]
  },
  {
   "cell_type": "code",
   "execution_count": 6,
   "id": "7ef54962",
   "metadata": {},
   "outputs": [],
   "source": [
    "#To do encoding just for the catogerical variables\n",
    "from sklearn import preprocessing\n",
    "\n",
    "\n",
    "for f in train_data.columns:\n",
    "    if train_data[f].dtype=='object':\n",
    "        print(f)\n",
    "        lbl = preprocessing.LabelEncoder()\n",
    "        lbl.fit(list(train_data[f].values) + list(test_data[f].values))\n",
    "        train_data[f] = lbl.transform(list(train_data[f].values))\n",
    "        test_data[f] = lbl.transform(list(test_data[f].values))"
   ]
  },
  {
   "cell_type": "markdown",
   "id": "f95e3a94",
   "metadata": {},
   "source": [
    "### Traindata"
   ]
  },
  {
   "cell_type": "code",
   "execution_count": 8,
   "id": "b4594d35",
   "metadata": {},
   "outputs": [
    {
     "name": "stdout",
     "output_type": "stream",
     "text": [
      "LotFrontage 0.1774  % missing values\n",
      "MasVnrArea 0.0055  % missing values\n",
      "GarageYrBlt 0.0555  % missing values\n"
     ]
    }
   ],
   "source": [
    "## Here we will check the percentage of nan values present in each feature\n",
    "## 1 -step make the list of features which has missing values\n",
    "features_with_na=[features for features in train_data.columns if train_data[features].isnull().sum()>1]\n",
    "## 2- step print the feature name and the percentage of missing values\n",
    "\n",
    "for feature in features_with_na:\n",
    "    print(feature, np.round(train_data[feature].isnull().mean(), 4),  ' % missing values')"
   ]
  },
  {
   "cell_type": "code",
   "execution_count": 10,
   "id": "9d5bf8d1",
   "metadata": {},
   "outputs": [
    {
     "data": {
      "text/plain": [
       "Series([], dtype: float64)"
      ]
     },
     "execution_count": 10,
     "metadata": {},
     "output_type": "execute_result"
    }
   ],
   "source": [
    "## Replace missing value with a new label\n",
    "features_nan=[feature for feature in train_data.columns if train_data[feature].isnull().sum()>1 and train_data[feature].dtypes=='O']\n",
    "\n",
    "def replace_cat_feature(train_data,features_nan):\n",
    "    data=train_data.copy()\n",
    "    data[features_nan]=data[features_nan].fillna('Missing')\n",
    "    return data\n",
    "\n",
    "dataset=replace_cat_feature(train_data,features_nan)\n",
    "\n",
    "dataset[features_nan].isnull().sum()"
   ]
  },
  {
   "cell_type": "code",
   "execution_count": 12,
   "id": "b883e229",
   "metadata": {},
   "outputs": [
    {
     "name": "stdout",
     "output_type": "stream",
     "text": [
      "LotFrontage: 0.1774% missing value\n",
      "MasVnrArea: 0.0055% missing value\n",
      "GarageYrBlt: 0.0555% missing value\n"
     ]
    }
   ],
   "source": [
    "## Now lets check for numerical variables the contains missing values\n",
    "numerical_with_nan=[feature for feature in dataset.columns if dataset[feature].isnull().sum()>1 and dataset[feature].dtypes!='O']\n",
    "\n",
    "## We will print the numerical nan variables and percentage of missing values\n",
    "\n",
    "for feature in numerical_with_nan:\n",
    "    print(\"{}: {}% missing value\".format(feature,np.around(dataset[feature].isnull().mean(),4)))"
   ]
  },
  {
   "cell_type": "code",
   "execution_count": 14,
   "id": "fdd88531",
   "metadata": {},
   "outputs": [
    {
     "data": {
      "text/plain": [
       "LotFrontage    0\n",
       "MasVnrArea     0\n",
       "GarageYrBlt    0\n",
       "dtype: int64"
      ]
     },
     "execution_count": 14,
     "metadata": {},
     "output_type": "execute_result"
    }
   ],
   "source": [
    "## Replacing the numerical Missing Values\n",
    "\n",
    "for feature in numerical_with_nan:\n",
    "    ## We will replace by using median since there are outliers\n",
    "    median_value=dataset[feature].median()\n",
    "    \n",
    "    ## create a new feature to capture nan values\n",
    "    dataset[feature+'nan']=np.where(dataset[feature].isnull(),1,0)\n",
    "    dataset[feature].fillna(median_value,inplace=True)\n",
    "    \n",
    "dataset[numerical_with_nan].isnull().sum()\n",
    "    "
   ]
  },
  {
   "cell_type": "code",
   "execution_count": 18,
   "id": "95d1653d",
   "metadata": {},
   "outputs": [
    {
     "data": {
      "text/html": [
       "<style>#sk-container-id-1 {color: black;background-color: white;}#sk-container-id-1 pre{padding: 0;}#sk-container-id-1 div.sk-toggleable {background-color: white;}#sk-container-id-1 label.sk-toggleable__label {cursor: pointer;display: block;width: 100%;margin-bottom: 0;padding: 0.3em;box-sizing: border-box;text-align: center;}#sk-container-id-1 label.sk-toggleable__label-arrow:before {content: \"▸\";float: left;margin-right: 0.25em;color: #696969;}#sk-container-id-1 label.sk-toggleable__label-arrow:hover:before {color: black;}#sk-container-id-1 div.sk-estimator:hover label.sk-toggleable__label-arrow:before {color: black;}#sk-container-id-1 div.sk-toggleable__content {max-height: 0;max-width: 0;overflow: hidden;text-align: left;background-color: #f0f8ff;}#sk-container-id-1 div.sk-toggleable__content pre {margin: 0.2em;color: black;border-radius: 0.25em;background-color: #f0f8ff;}#sk-container-id-1 input.sk-toggleable__control:checked~div.sk-toggleable__content {max-height: 200px;max-width: 100%;overflow: auto;}#sk-container-id-1 input.sk-toggleable__control:checked~label.sk-toggleable__label-arrow:before {content: \"▾\";}#sk-container-id-1 div.sk-estimator input.sk-toggleable__control:checked~label.sk-toggleable__label {background-color: #d4ebff;}#sk-container-id-1 div.sk-label input.sk-toggleable__control:checked~label.sk-toggleable__label {background-color: #d4ebff;}#sk-container-id-1 input.sk-hidden--visually {border: 0;clip: rect(1px 1px 1px 1px);clip: rect(1px, 1px, 1px, 1px);height: 1px;margin: -1px;overflow: hidden;padding: 0;position: absolute;width: 1px;}#sk-container-id-1 div.sk-estimator {font-family: monospace;background-color: #f0f8ff;border: 1px dotted black;border-radius: 0.25em;box-sizing: border-box;margin-bottom: 0.5em;}#sk-container-id-1 div.sk-estimator:hover {background-color: #d4ebff;}#sk-container-id-1 div.sk-parallel-item::after {content: \"\";width: 100%;border-bottom: 1px solid gray;flex-grow: 1;}#sk-container-id-1 div.sk-label:hover label.sk-toggleable__label {background-color: #d4ebff;}#sk-container-id-1 div.sk-serial::before {content: \"\";position: absolute;border-left: 1px solid gray;box-sizing: border-box;top: 0;bottom: 0;left: 50%;z-index: 0;}#sk-container-id-1 div.sk-serial {display: flex;flex-direction: column;align-items: center;background-color: white;padding-right: 0.2em;padding-left: 0.2em;position: relative;}#sk-container-id-1 div.sk-item {position: relative;z-index: 1;}#sk-container-id-1 div.sk-parallel {display: flex;align-items: stretch;justify-content: center;background-color: white;position: relative;}#sk-container-id-1 div.sk-item::before, #sk-container-id-1 div.sk-parallel-item::before {content: \"\";position: absolute;border-left: 1px solid gray;box-sizing: border-box;top: 0;bottom: 0;left: 50%;z-index: -1;}#sk-container-id-1 div.sk-parallel-item {display: flex;flex-direction: column;z-index: 1;position: relative;background-color: white;}#sk-container-id-1 div.sk-parallel-item:first-child::after {align-self: flex-end;width: 50%;}#sk-container-id-1 div.sk-parallel-item:last-child::after {align-self: flex-start;width: 50%;}#sk-container-id-1 div.sk-parallel-item:only-child::after {width: 0;}#sk-container-id-1 div.sk-dashed-wrapped {border: 1px dashed gray;margin: 0 0.4em 0.5em 0.4em;box-sizing: border-box;padding-bottom: 0.4em;background-color: white;}#sk-container-id-1 div.sk-label label {font-family: monospace;font-weight: bold;display: inline-block;line-height: 1.2em;}#sk-container-id-1 div.sk-label-container {text-align: center;}#sk-container-id-1 div.sk-container {/* jupyter's `normalize.less` sets `[hidden] { display: none; }` but bootstrap.min.css set `[hidden] { display: none !important; }` so we also need the `!important` here to be able to override the default hidden behavior on the sphinx rendered scikit-learn.org. See: https://github.com/scikit-learn/scikit-learn/issues/21755 */display: inline-block !important;position: relative;}#sk-container-id-1 div.sk-text-repr-fallback {display: none;}</style><div id=\"sk-container-id-1\" class=\"sk-top-container\"><div class=\"sk-text-repr-fallback\"><pre>MinMaxScaler()</pre><b>In a Jupyter environment, please rerun this cell to show the HTML representation or trust the notebook. <br />On GitHub, the HTML representation is unable to render, please try loading this page with nbviewer.org.</b></div><div class=\"sk-container\" hidden><div class=\"sk-item\"><div class=\"sk-estimator sk-toggleable\"><input class=\"sk-toggleable__control sk-hidden--visually\" id=\"sk-estimator-id-1\" type=\"checkbox\" checked><label for=\"sk-estimator-id-1\" class=\"sk-toggleable__label sk-toggleable__label-arrow\">MinMaxScaler</label><div class=\"sk-toggleable__content\"><pre>MinMaxScaler()</pre></div></div></div></div></div>"
      ],
      "text/plain": [
       "MinMaxScaler()"
      ]
     },
     "execution_count": 18,
     "metadata": {},
     "output_type": "execute_result"
    }
   ],
   "source": [
    "feature_scale=[feature for feature in dataset.columns if feature not in ['Id','SalePrice']]\n",
    "\n",
    "from sklearn.preprocessing import MinMaxScaler\n",
    "scaler=MinMaxScaler()\n",
    "scaler.fit(dataset[feature_scale])"
   ]
  },
  {
   "cell_type": "code",
   "execution_count": 19,
   "id": "7db52ac1",
   "metadata": {},
   "outputs": [
    {
     "data": {
      "text/plain": [
       "array([[0.23529412, 0.75      , 0.15068493, ..., 0.        , 0.        ,\n",
       "        0.        ],\n",
       "       [0.        , 0.75      , 0.20205479, ..., 0.        , 0.        ,\n",
       "        0.        ],\n",
       "       [0.23529412, 0.75      , 0.1609589 , ..., 0.        , 0.        ,\n",
       "        0.        ],\n",
       "       ...,\n",
       "       [0.29411765, 0.75      , 0.15410959, ..., 0.        , 0.        ,\n",
       "        0.        ],\n",
       "       [0.        , 0.75      , 0.1609589 , ..., 0.        , 0.        ,\n",
       "        0.        ],\n",
       "       [0.        , 0.75      , 0.18493151, ..., 0.        , 0.        ,\n",
       "        0.        ]])"
      ]
     },
     "execution_count": 19,
     "metadata": {},
     "output_type": "execute_result"
    }
   ],
   "source": [
    "scaler.transform(dataset[feature_scale])"
   ]
  },
  {
   "cell_type": "code",
   "execution_count": 21,
   "id": "accf4493",
   "metadata": {},
   "outputs": [],
   "source": [
    "#transform the train and test set, and add on the Id and SalePrice variables\n",
    "data = pd.concat([dataset[['Id', 'SalePrice']].reset_index(drop=True),\n",
    "                     pd.DataFrame(scaler.transform(dataset[feature_scale]), columns=feature_scale)],\n",
    "                     axis=1)\n"
   ]
  },
  {
   "cell_type": "code",
   "execution_count": 22,
   "id": "cc8dc5aa",
   "metadata": {},
   "outputs": [],
   "source": [
    "dataset = dataset.drop(['LotFrontage','MasVnrArea','GarageYrBlt'], axis =1)"
   ]
  },
  {
   "cell_type": "code",
   "execution_count": 24,
   "id": "f3322706",
   "metadata": {},
   "outputs": [
    {
     "data": {
      "text/plain": [
       "LotFrontage     227\n",
       "GarageYrBlt      78\n",
       "MasVnrArea       15\n",
       "BsmtFullBath      2\n",
       "BsmtHalfBath      2\n",
       "GarageCars        1\n",
       "TotalBsmtSF       1\n",
       "BsmtUnfSF         1\n",
       "BsmtFinSF2        1\n",
       "BsmtFinSF1        1\n",
       "GarageArea        1\n",
       "KitchenQual       0\n",
       "Fireplaces        0\n",
       "Functional        0\n",
       "TotRmsAbvGrd      0\n",
       "Id                0\n",
       "KitchenAbvGr      0\n",
       "BedroomAbvGr      0\n",
       "HalfBath          0\n",
       "FireplaceQu       0\n",
       "dtype: int64"
      ]
     },
     "execution_count": 24,
     "metadata": {},
     "output_type": "execute_result"
    }
   ],
   "source": [
    "test_data.isnull().sum().sort_values(ascending = False).head(20)"
   ]
  },
  {
   "cell_type": "markdown",
   "id": "d51caf26",
   "metadata": {},
   "source": [
    "### Testdata"
   ]
  },
  {
   "cell_type": "code",
   "execution_count": 26,
   "id": "8aa844a9",
   "metadata": {},
   "outputs": [
    {
     "name": "stdout",
     "output_type": "stream",
     "text": [
      "LotFrontage 0.1556  % missing values\n",
      "MasVnrArea 0.0103  % missing values\n",
      "BsmtFullBath 0.0014  % missing values\n",
      "BsmtHalfBath 0.0014  % missing values\n",
      "GarageYrBlt 0.0535  % missing values\n"
     ]
    }
   ],
   "source": [
    "## Here we will check the percentage of nan values present in each feature\n",
    "## 1 -step make the list of features which has missing values\n",
    "features_with_na=[features for features in test_data.columns if test_data[features].isnull().sum()>1]\n",
    "## 2- step print the feature name and the percentage of missing values\n",
    "\n",
    "for feature in features_with_na:\n",
    "    print(feature, np.round(test_data[feature].isnull().mean(), 4),  ' % missing values')"
   ]
  },
  {
   "cell_type": "code",
   "execution_count": 28,
   "id": "7ae20ce1",
   "metadata": {},
   "outputs": [
    {
     "data": {
      "text/plain": [
       "Series([], dtype: float64)"
      ]
     },
     "execution_count": 28,
     "metadata": {},
     "output_type": "execute_result"
    }
   ],
   "source": [
    "## Replace missing value with a new label\n",
    "features_nan=[feature for feature in test_data.columns if test_data[feature].isnull().sum()>1 and test_data[feature].dtypes=='O']\n",
    "\n",
    "def replace_cat_feature(test_data,features_nan):\n",
    "    testdata=test_data.copy()\n",
    "    testdata[features_nan]=testdata[features_nan].fillna('Missing')\n",
    "    return testdata\n",
    "\n",
    "testdataset=replace_cat_feature(test_data,features_nan)\n",
    "\n",
    "testdataset[features_nan].isnull().sum()"
   ]
  },
  {
   "cell_type": "code",
   "execution_count": 30,
   "id": "246bb36d",
   "metadata": {},
   "outputs": [
    {
     "name": "stdout",
     "output_type": "stream",
     "text": [
      "LotFrontage: 0.1556% missing value\n",
      "MasVnrArea: 0.0103% missing value\n",
      "BsmtFinSF1: 0.0007% missing value\n",
      "BsmtFinSF2: 0.0007% missing value\n",
      "BsmtUnfSF: 0.0007% missing value\n",
      "TotalBsmtSF: 0.0007% missing value\n",
      "BsmtFullBath: 0.0014% missing value\n",
      "BsmtHalfBath: 0.0014% missing value\n",
      "GarageYrBlt: 0.0535% missing value\n",
      "GarageCars: 0.0007% missing value\n",
      "GarageArea: 0.0007% missing value\n"
     ]
    }
   ],
   "source": [
    "## Now lets check for numerical variables the contains missing values\n",
    "numerical_with_nan=[feature for feature in testdataset.columns if testdataset[feature].isnull().sum()>0 and testdataset[feature].dtypes!='O']\n",
    "\n",
    "## We will print the numerical nan variables and percentage of missing values\n",
    "\n",
    "for feature in numerical_with_nan:\n",
    "    print(\"{}: {}% missing value\".format(feature,np.around(testdataset[feature].isnull().mean(),4)))"
   ]
  },
  {
   "cell_type": "code",
   "execution_count": 32,
   "id": "61f66c23",
   "metadata": {},
   "outputs": [
    {
     "data": {
      "text/plain": [
       "LotFrontage     0\n",
       "MasVnrArea      0\n",
       "BsmtFinSF1      0\n",
       "BsmtFinSF2      0\n",
       "BsmtUnfSF       0\n",
       "TotalBsmtSF     0\n",
       "BsmtFullBath    0\n",
       "BsmtHalfBath    0\n",
       "GarageYrBlt     0\n",
       "GarageCars      0\n",
       "GarageArea      0\n",
       "dtype: int64"
      ]
     },
     "execution_count": 32,
     "metadata": {},
     "output_type": "execute_result"
    }
   ],
   "source": [
    "## Replacing the numerical Missing Values\n",
    "\n",
    "for feature in numerical_with_nan:\n",
    "    ## We will replace by using median since there are outliers\n",
    "    median_value=testdataset[feature].median()\n",
    "    \n",
    "    ## create a new feature to capture nan values\n",
    "    testdataset[feature+'nan']=np.where(testdataset[feature].isnull(),1,0)\n",
    "    testdataset[feature].fillna(median_value,inplace=True)\n",
    "    \n",
    "testdataset[numerical_with_nan].isnull().sum()\n",
    "    "
   ]
  },
  {
   "cell_type": "code",
   "execution_count": 34,
   "id": "dacd6ef9",
   "metadata": {},
   "outputs": [
    {
     "name": "stdout",
     "output_type": "stream",
     "text": [
      "LotFrontage\n",
      "MasVnrArea\n",
      "GarageYrBlt\n",
      "BsmtFinSF1nan\n",
      "BsmtFinSF2nan\n",
      "BsmtUnfSFnan\n",
      "TotalBsmtSFnan\n",
      "BsmtFullBathnan\n",
      "BsmtHalfBathnan\n",
      "GarageCarsnan\n",
      "GarageAreanan\n"
     ]
    }
   ],
   "source": [
    "for i in testdataset:\n",
    "    if i not in dataset:\n",
    "        print(i)"
   ]
  },
  {
   "cell_type": "code",
   "execution_count": 36,
   "id": "6995509d",
   "metadata": {},
   "outputs": [],
   "source": [
    "## Now lets check for numerical variables the contains missing values\n",
    "numerical_with_nan=[feature for feature in testdataset.columns if testdataset[feature].isnull().sum()>1 and testdataset[feature].dtypes!='O']\n",
    "\n",
    "## We will print the numerical nan variables and percentage of missing values\n",
    "\n",
    "for feature in numerical_with_nan:\n",
    "    print(\"{}: {}% missing value\".format(feature,np.around(testdataset[feature].isnull().mean(),4)))"
   ]
  },
  {
   "cell_type": "code",
   "execution_count": 38,
   "id": "3382f8fb",
   "metadata": {},
   "outputs": [
    {
     "data": {
      "text/html": [
       "<style>#sk-container-id-3 {color: black;background-color: white;}#sk-container-id-3 pre{padding: 0;}#sk-container-id-3 div.sk-toggleable {background-color: white;}#sk-container-id-3 label.sk-toggleable__label {cursor: pointer;display: block;width: 100%;margin-bottom: 0;padding: 0.3em;box-sizing: border-box;text-align: center;}#sk-container-id-3 label.sk-toggleable__label-arrow:before {content: \"▸\";float: left;margin-right: 0.25em;color: #696969;}#sk-container-id-3 label.sk-toggleable__label-arrow:hover:before {color: black;}#sk-container-id-3 div.sk-estimator:hover label.sk-toggleable__label-arrow:before {color: black;}#sk-container-id-3 div.sk-toggleable__content {max-height: 0;max-width: 0;overflow: hidden;text-align: left;background-color: #f0f8ff;}#sk-container-id-3 div.sk-toggleable__content pre {margin: 0.2em;color: black;border-radius: 0.25em;background-color: #f0f8ff;}#sk-container-id-3 input.sk-toggleable__control:checked~div.sk-toggleable__content {max-height: 200px;max-width: 100%;overflow: auto;}#sk-container-id-3 input.sk-toggleable__control:checked~label.sk-toggleable__label-arrow:before {content: \"▾\";}#sk-container-id-3 div.sk-estimator input.sk-toggleable__control:checked~label.sk-toggleable__label {background-color: #d4ebff;}#sk-container-id-3 div.sk-label input.sk-toggleable__control:checked~label.sk-toggleable__label {background-color: #d4ebff;}#sk-container-id-3 input.sk-hidden--visually {border: 0;clip: rect(1px 1px 1px 1px);clip: rect(1px, 1px, 1px, 1px);height: 1px;margin: -1px;overflow: hidden;padding: 0;position: absolute;width: 1px;}#sk-container-id-3 div.sk-estimator {font-family: monospace;background-color: #f0f8ff;border: 1px dotted black;border-radius: 0.25em;box-sizing: border-box;margin-bottom: 0.5em;}#sk-container-id-3 div.sk-estimator:hover {background-color: #d4ebff;}#sk-container-id-3 div.sk-parallel-item::after {content: \"\";width: 100%;border-bottom: 1px solid gray;flex-grow: 1;}#sk-container-id-3 div.sk-label:hover label.sk-toggleable__label {background-color: #d4ebff;}#sk-container-id-3 div.sk-serial::before {content: \"\";position: absolute;border-left: 1px solid gray;box-sizing: border-box;top: 0;bottom: 0;left: 50%;z-index: 0;}#sk-container-id-3 div.sk-serial {display: flex;flex-direction: column;align-items: center;background-color: white;padding-right: 0.2em;padding-left: 0.2em;position: relative;}#sk-container-id-3 div.sk-item {position: relative;z-index: 1;}#sk-container-id-3 div.sk-parallel {display: flex;align-items: stretch;justify-content: center;background-color: white;position: relative;}#sk-container-id-3 div.sk-item::before, #sk-container-id-3 div.sk-parallel-item::before {content: \"\";position: absolute;border-left: 1px solid gray;box-sizing: border-box;top: 0;bottom: 0;left: 50%;z-index: -1;}#sk-container-id-3 div.sk-parallel-item {display: flex;flex-direction: column;z-index: 1;position: relative;background-color: white;}#sk-container-id-3 div.sk-parallel-item:first-child::after {align-self: flex-end;width: 50%;}#sk-container-id-3 div.sk-parallel-item:last-child::after {align-self: flex-start;width: 50%;}#sk-container-id-3 div.sk-parallel-item:only-child::after {width: 0;}#sk-container-id-3 div.sk-dashed-wrapped {border: 1px dashed gray;margin: 0 0.4em 0.5em 0.4em;box-sizing: border-box;padding-bottom: 0.4em;background-color: white;}#sk-container-id-3 div.sk-label label {font-family: monospace;font-weight: bold;display: inline-block;line-height: 1.2em;}#sk-container-id-3 div.sk-label-container {text-align: center;}#sk-container-id-3 div.sk-container {/* jupyter's `normalize.less` sets `[hidden] { display: none; }` but bootstrap.min.css set `[hidden] { display: none !important; }` so we also need the `!important` here to be able to override the default hidden behavior on the sphinx rendered scikit-learn.org. See: https://github.com/scikit-learn/scikit-learn/issues/21755 */display: inline-block !important;position: relative;}#sk-container-id-3 div.sk-text-repr-fallback {display: none;}</style><div id=\"sk-container-id-3\" class=\"sk-top-container\"><div class=\"sk-text-repr-fallback\"><pre>MinMaxScaler()</pre><b>In a Jupyter environment, please rerun this cell to show the HTML representation or trust the notebook. <br />On GitHub, the HTML representation is unable to render, please try loading this page with nbviewer.org.</b></div><div class=\"sk-container\" hidden><div class=\"sk-item\"><div class=\"sk-estimator sk-toggleable\"><input class=\"sk-toggleable__control sk-hidden--visually\" id=\"sk-estimator-id-3\" type=\"checkbox\" checked><label for=\"sk-estimator-id-3\" class=\"sk-toggleable__label sk-toggleable__label-arrow\">MinMaxScaler</label><div class=\"sk-toggleable__content\"><pre>MinMaxScaler()</pre></div></div></div></div></div>"
      ],
      "text/plain": [
       "MinMaxScaler()"
      ]
     },
     "execution_count": 38,
     "metadata": {},
     "output_type": "execute_result"
    }
   ],
   "source": [
    "feature_scale=[feature for feature in testdataset.columns if feature not in ['Id','SalePrice']]\n",
    "\n",
    "from sklearn.preprocessing import MinMaxScaler\n",
    "scaler=MinMaxScaler()\n",
    "scaler.fit(testdataset[feature_scale])"
   ]
  },
  {
   "cell_type": "code",
   "execution_count": 41,
   "id": "85518c38",
   "metadata": {},
   "outputs": [],
   "source": [
    "scaler.transform(testdataset[feature_scale])\n",
    "#transform the train and test set, and add on the Id and SalePrice variables\n",
    "testdataset = pd.concat([testdataset[['Id']].reset_index(drop=True),\n",
    "                         pd.DataFrame(scaler.transform(testdataset[feature_scale]), columns=feature_scale)],\n",
    "                         axis=1)\n"
   ]
  },
  {
   "cell_type": "code",
   "execution_count": 43,
   "id": "8d60cb6f",
   "metadata": {},
   "outputs": [
    {
     "data": {
      "text/html": [
       "<div>\n",
       "<style scoped>\n",
       "    .dataframe tbody tr th:only-of-type {\n",
       "        vertical-align: middle;\n",
       "    }\n",
       "\n",
       "    .dataframe tbody tr th {\n",
       "        vertical-align: top;\n",
       "    }\n",
       "\n",
       "    .dataframe thead th {\n",
       "        text-align: right;\n",
       "    }\n",
       "</style>\n",
       "<table border=\"1\" class=\"dataframe\">\n",
       "  <thead>\n",
       "    <tr style=\"text-align: right;\">\n",
       "      <th></th>\n",
       "      <th>Id</th>\n",
       "      <th>MSSubClass</th>\n",
       "      <th>MSZoning</th>\n",
       "      <th>LotFrontage</th>\n",
       "      <th>LotArea</th>\n",
       "      <th>Street</th>\n",
       "      <th>Alley</th>\n",
       "      <th>LotShape</th>\n",
       "      <th>LandContour</th>\n",
       "      <th>Utilities</th>\n",
       "      <th>...</th>\n",
       "      <th>MasVnrAreanan</th>\n",
       "      <th>BsmtFinSF1nan</th>\n",
       "      <th>BsmtFinSF2nan</th>\n",
       "      <th>BsmtUnfSFnan</th>\n",
       "      <th>TotalBsmtSFnan</th>\n",
       "      <th>BsmtFullBathnan</th>\n",
       "      <th>BsmtHalfBathnan</th>\n",
       "      <th>GarageYrBltnan</th>\n",
       "      <th>GarageCarsnan</th>\n",
       "      <th>GarageAreanan</th>\n",
       "    </tr>\n",
       "  </thead>\n",
       "  <tbody>\n",
       "    <tr>\n",
       "      <th>0</th>\n",
       "      <td>1461</td>\n",
       "      <td>-0.117647</td>\n",
       "      <td>0.08</td>\n",
       "      <td>-0.115477</td>\n",
       "      <td>-0.026661</td>\n",
       "      <td>1.0</td>\n",
       "      <td>0.5</td>\n",
       "      <td>0.333333</td>\n",
       "      <td>0.333333</td>\n",
       "      <td>0.0</td>\n",
       "      <td>...</td>\n",
       "      <td>0.0</td>\n",
       "      <td>0.0</td>\n",
       "      <td>0.0</td>\n",
       "      <td>0.0</td>\n",
       "      <td>0.0</td>\n",
       "      <td>0.0</td>\n",
       "      <td>0.0</td>\n",
       "      <td>0.0</td>\n",
       "      <td>0.0</td>\n",
       "      <td>0.0</td>\n",
       "    </tr>\n",
       "    <tr>\n",
       "      <th>1</th>\n",
       "      <td>1462</td>\n",
       "      <td>-0.117647</td>\n",
       "      <td>0.12</td>\n",
       "      <td>-0.115446</td>\n",
       "      <td>-0.026660</td>\n",
       "      <td>1.0</td>\n",
       "      <td>0.5</td>\n",
       "      <td>0.000000</td>\n",
       "      <td>0.333333</td>\n",
       "      <td>0.0</td>\n",
       "      <td>...</td>\n",
       "      <td>0.0</td>\n",
       "      <td>0.0</td>\n",
       "      <td>0.0</td>\n",
       "      <td>0.0</td>\n",
       "      <td>0.0</td>\n",
       "      <td>0.0</td>\n",
       "      <td>0.0</td>\n",
       "      <td>0.0</td>\n",
       "      <td>0.0</td>\n",
       "      <td>0.0</td>\n",
       "    </tr>\n",
       "    <tr>\n",
       "      <th>2</th>\n",
       "      <td>1463</td>\n",
       "      <td>-0.116263</td>\n",
       "      <td>0.12</td>\n",
       "      <td>-0.115664</td>\n",
       "      <td>-0.026660</td>\n",
       "      <td>1.0</td>\n",
       "      <td>0.5</td>\n",
       "      <td>0.000000</td>\n",
       "      <td>0.333333</td>\n",
       "      <td>0.0</td>\n",
       "      <td>...</td>\n",
       "      <td>0.0</td>\n",
       "      <td>0.0</td>\n",
       "      <td>0.0</td>\n",
       "      <td>0.0</td>\n",
       "      <td>0.0</td>\n",
       "      <td>0.0</td>\n",
       "      <td>0.0</td>\n",
       "      <td>0.0</td>\n",
       "      <td>0.0</td>\n",
       "      <td>0.0</td>\n",
       "    </tr>\n",
       "    <tr>\n",
       "      <th>3</th>\n",
       "      <td>1464</td>\n",
       "      <td>-0.116263</td>\n",
       "      <td>0.12</td>\n",
       "      <td>-0.115539</td>\n",
       "      <td>-0.026661</td>\n",
       "      <td>1.0</td>\n",
       "      <td>0.5</td>\n",
       "      <td>0.000000</td>\n",
       "      <td>0.333333</td>\n",
       "      <td>0.0</td>\n",
       "      <td>...</td>\n",
       "      <td>0.0</td>\n",
       "      <td>0.0</td>\n",
       "      <td>0.0</td>\n",
       "      <td>0.0</td>\n",
       "      <td>0.0</td>\n",
       "      <td>0.0</td>\n",
       "      <td>0.0</td>\n",
       "      <td>0.0</td>\n",
       "      <td>0.0</td>\n",
       "      <td>0.0</td>\n",
       "    </tr>\n",
       "    <tr>\n",
       "      <th>4</th>\n",
       "      <td>1465</td>\n",
       "      <td>-0.114187</td>\n",
       "      <td>0.12</td>\n",
       "      <td>-0.116632</td>\n",
       "      <td>-0.026663</td>\n",
       "      <td>1.0</td>\n",
       "      <td>0.5</td>\n",
       "      <td>0.000000</td>\n",
       "      <td>0.111111</td>\n",
       "      <td>0.0</td>\n",
       "      <td>...</td>\n",
       "      <td>0.0</td>\n",
       "      <td>0.0</td>\n",
       "      <td>0.0</td>\n",
       "      <td>0.0</td>\n",
       "      <td>0.0</td>\n",
       "      <td>0.0</td>\n",
       "      <td>0.0</td>\n",
       "      <td>0.0</td>\n",
       "      <td>0.0</td>\n",
       "      <td>0.0</td>\n",
       "    </tr>\n",
       "    <tr>\n",
       "      <th>...</th>\n",
       "      <td>...</td>\n",
       "      <td>...</td>\n",
       "      <td>...</td>\n",
       "      <td>...</td>\n",
       "      <td>...</td>\n",
       "      <td>...</td>\n",
       "      <td>...</td>\n",
       "      <td>...</td>\n",
       "      <td>...</td>\n",
       "      <td>...</td>\n",
       "      <td>...</td>\n",
       "      <td>...</td>\n",
       "      <td>...</td>\n",
       "      <td>...</td>\n",
       "      <td>...</td>\n",
       "      <td>...</td>\n",
       "      <td>...</td>\n",
       "      <td>...</td>\n",
       "      <td>...</td>\n",
       "      <td>...</td>\n",
       "      <td>...</td>\n",
       "    </tr>\n",
       "    <tr>\n",
       "      <th>1454</th>\n",
       "      <td>2915</td>\n",
       "      <td>-0.112803</td>\n",
       "      <td>0.16</td>\n",
       "      <td>-0.117318</td>\n",
       "      <td>-0.026664</td>\n",
       "      <td>1.0</td>\n",
       "      <td>0.5</td>\n",
       "      <td>0.333333</td>\n",
       "      <td>0.333333</td>\n",
       "      <td>0.0</td>\n",
       "      <td>...</td>\n",
       "      <td>0.0</td>\n",
       "      <td>0.0</td>\n",
       "      <td>0.0</td>\n",
       "      <td>0.0</td>\n",
       "      <td>0.0</td>\n",
       "      <td>0.0</td>\n",
       "      <td>0.0</td>\n",
       "      <td>0.0</td>\n",
       "      <td>0.0</td>\n",
       "      <td>0.0</td>\n",
       "    </tr>\n",
       "    <tr>\n",
       "      <th>1455</th>\n",
       "      <td>2916</td>\n",
       "      <td>-0.112803</td>\n",
       "      <td>0.16</td>\n",
       "      <td>-0.117318</td>\n",
       "      <td>-0.026664</td>\n",
       "      <td>1.0</td>\n",
       "      <td>0.5</td>\n",
       "      <td>0.333333</td>\n",
       "      <td>0.333333</td>\n",
       "      <td>0.0</td>\n",
       "      <td>...</td>\n",
       "      <td>0.0</td>\n",
       "      <td>0.0</td>\n",
       "      <td>0.0</td>\n",
       "      <td>0.0</td>\n",
       "      <td>0.0</td>\n",
       "      <td>0.0</td>\n",
       "      <td>0.0</td>\n",
       "      <td>0.0</td>\n",
       "      <td>0.0</td>\n",
       "      <td>0.0</td>\n",
       "    </tr>\n",
       "    <tr>\n",
       "      <th>1456</th>\n",
       "      <td>2917</td>\n",
       "      <td>-0.117647</td>\n",
       "      <td>0.12</td>\n",
       "      <td>-0.112980</td>\n",
       "      <td>-0.026658</td>\n",
       "      <td>1.0</td>\n",
       "      <td>0.5</td>\n",
       "      <td>0.333333</td>\n",
       "      <td>0.333333</td>\n",
       "      <td>0.0</td>\n",
       "      <td>...</td>\n",
       "      <td>0.0</td>\n",
       "      <td>0.0</td>\n",
       "      <td>0.0</td>\n",
       "      <td>0.0</td>\n",
       "      <td>0.0</td>\n",
       "      <td>0.0</td>\n",
       "      <td>0.0</td>\n",
       "      <td>0.0</td>\n",
       "      <td>0.0</td>\n",
       "      <td>0.0</td>\n",
       "    </tr>\n",
       "    <tr>\n",
       "      <th>1457</th>\n",
       "      <td>2918</td>\n",
       "      <td>-0.115398</td>\n",
       "      <td>0.12</td>\n",
       "      <td>-0.116039</td>\n",
       "      <td>-0.026661</td>\n",
       "      <td>1.0</td>\n",
       "      <td>0.5</td>\n",
       "      <td>0.333333</td>\n",
       "      <td>0.333333</td>\n",
       "      <td>0.0</td>\n",
       "      <td>...</td>\n",
       "      <td>0.0</td>\n",
       "      <td>0.0</td>\n",
       "      <td>0.0</td>\n",
       "      <td>0.0</td>\n",
       "      <td>0.0</td>\n",
       "      <td>0.0</td>\n",
       "      <td>0.0</td>\n",
       "      <td>0.0</td>\n",
       "      <td>0.0</td>\n",
       "      <td>0.0</td>\n",
       "    </tr>\n",
       "    <tr>\n",
       "      <th>1458</th>\n",
       "      <td>2919</td>\n",
       "      <td>-0.116263</td>\n",
       "      <td>0.12</td>\n",
       "      <td>-0.115664</td>\n",
       "      <td>-0.026662</td>\n",
       "      <td>1.0</td>\n",
       "      <td>0.5</td>\n",
       "      <td>0.333333</td>\n",
       "      <td>0.333333</td>\n",
       "      <td>0.0</td>\n",
       "      <td>...</td>\n",
       "      <td>0.0</td>\n",
       "      <td>0.0</td>\n",
       "      <td>0.0</td>\n",
       "      <td>0.0</td>\n",
       "      <td>0.0</td>\n",
       "      <td>0.0</td>\n",
       "      <td>0.0</td>\n",
       "      <td>0.0</td>\n",
       "      <td>0.0</td>\n",
       "      <td>0.0</td>\n",
       "    </tr>\n",
       "  </tbody>\n",
       "</table>\n",
       "<p>1459 rows × 91 columns</p>\n",
       "</div>"
      ],
      "text/plain": [
       "        Id  MSSubClass  MSZoning  LotFrontage   LotArea  Street  Alley  \\\n",
       "0     1461   -0.117647      0.08    -0.115477 -0.026661     1.0    0.5   \n",
       "1     1462   -0.117647      0.12    -0.115446 -0.026660     1.0    0.5   \n",
       "2     1463   -0.116263      0.12    -0.115664 -0.026660     1.0    0.5   \n",
       "3     1464   -0.116263      0.12    -0.115539 -0.026661     1.0    0.5   \n",
       "4     1465   -0.114187      0.12    -0.116632 -0.026663     1.0    0.5   \n",
       "...    ...         ...       ...          ...       ...     ...    ...   \n",
       "1454  2915   -0.112803      0.16    -0.117318 -0.026664     1.0    0.5   \n",
       "1455  2916   -0.112803      0.16    -0.117318 -0.026664     1.0    0.5   \n",
       "1456  2917   -0.117647      0.12    -0.112980 -0.026658     1.0    0.5   \n",
       "1457  2918   -0.115398      0.12    -0.116039 -0.026661     1.0    0.5   \n",
       "1458  2919   -0.116263      0.12    -0.115664 -0.026662     1.0    0.5   \n",
       "\n",
       "      LotShape  LandContour  Utilities  ...  MasVnrAreanan  BsmtFinSF1nan  \\\n",
       "0     0.333333     0.333333        0.0  ...            0.0            0.0   \n",
       "1     0.000000     0.333333        0.0  ...            0.0            0.0   \n",
       "2     0.000000     0.333333        0.0  ...            0.0            0.0   \n",
       "3     0.000000     0.333333        0.0  ...            0.0            0.0   \n",
       "4     0.000000     0.111111        0.0  ...            0.0            0.0   \n",
       "...        ...          ...        ...  ...            ...            ...   \n",
       "1454  0.333333     0.333333        0.0  ...            0.0            0.0   \n",
       "1455  0.333333     0.333333        0.0  ...            0.0            0.0   \n",
       "1456  0.333333     0.333333        0.0  ...            0.0            0.0   \n",
       "1457  0.333333     0.333333        0.0  ...            0.0            0.0   \n",
       "1458  0.333333     0.333333        0.0  ...            0.0            0.0   \n",
       "\n",
       "      BsmtFinSF2nan  BsmtUnfSFnan  TotalBsmtSFnan  BsmtFullBathnan  \\\n",
       "0               0.0           0.0             0.0              0.0   \n",
       "1               0.0           0.0             0.0              0.0   \n",
       "2               0.0           0.0             0.0              0.0   \n",
       "3               0.0           0.0             0.0              0.0   \n",
       "4               0.0           0.0             0.0              0.0   \n",
       "...             ...           ...             ...              ...   \n",
       "1454            0.0           0.0             0.0              0.0   \n",
       "1455            0.0           0.0             0.0              0.0   \n",
       "1456            0.0           0.0             0.0              0.0   \n",
       "1457            0.0           0.0             0.0              0.0   \n",
       "1458            0.0           0.0             0.0              0.0   \n",
       "\n",
       "      BsmtHalfBathnan  GarageYrBltnan  GarageCarsnan  GarageAreanan  \n",
       "0                 0.0             0.0            0.0            0.0  \n",
       "1                 0.0             0.0            0.0            0.0  \n",
       "2                 0.0             0.0            0.0            0.0  \n",
       "3                 0.0             0.0            0.0            0.0  \n",
       "4                 0.0             0.0            0.0            0.0  \n",
       "...               ...             ...            ...            ...  \n",
       "1454              0.0             0.0            0.0            0.0  \n",
       "1455              0.0             0.0            0.0            0.0  \n",
       "1456              0.0             0.0            0.0            0.0  \n",
       "1457              0.0             0.0            0.0            0.0  \n",
       "1458              0.0             0.0            0.0            0.0  \n",
       "\n",
       "[1459 rows x 91 columns]"
      ]
     },
     "execution_count": 43,
     "metadata": {},
     "output_type": "execute_result"
    }
   ],
   "source": [
    "testdataset"
   ]
  },
  {
   "cell_type": "code",
   "execution_count": 45,
   "id": "11644c1d",
   "metadata": {},
   "outputs": [
    {
     "name": "stdout",
     "output_type": "stream",
     "text": [
      "['Id', 'MSSubClass', 'MSZoning', 'LotArea', 'Street', 'Alley', 'LotShape', 'LandContour', 'Utilities', 'LotConfig', 'LandSlope', 'Neighborhood', 'Condition1', 'Condition2', 'BldgType', 'HouseStyle', 'OverallQual', 'OverallCond', 'YearBuilt', 'YearRemodAdd', 'RoofStyle', 'RoofMatl', 'Exterior1st', 'Exterior2nd', 'MasVnrType', 'ExterQual', 'ExterCond', 'Foundation', 'BsmtQual', 'BsmtCond', 'BsmtExposure', 'BsmtFinType1', 'BsmtFinSF1', 'BsmtFinType2', 'BsmtFinSF2', 'BsmtUnfSF', 'TotalBsmtSF', 'Heating', 'HeatingQC', 'CentralAir', 'Electrical', '1stFlrSF', '2ndFlrSF', 'LowQualFinSF', 'GrLivArea', 'BsmtFullBath', 'BsmtHalfBath', 'FullBath', 'HalfBath', 'BedroomAbvGr', 'KitchenAbvGr', 'KitchenQual', 'TotRmsAbvGrd', 'Functional', 'Fireplaces', 'FireplaceQu', 'GarageType', 'GarageFinish', 'GarageCars', 'GarageArea', 'GarageQual', 'GarageCond', 'PavedDrive', 'WoodDeckSF', 'OpenPorchSF', 'EnclosedPorch', '3SsnPorch', 'ScreenPorch', 'PoolArea', 'PoolQC', 'Fence', 'MiscFeature', 'MiscVal', 'MoSold', 'YrSold', 'SaleType', 'SaleCondition', 'SalePrice', 'LotFrontagenan', 'MasVnrAreanan', 'GarageYrBltnan']\n",
      "['Id', 'MSSubClass', 'MSZoning', 'LotFrontage', 'LotArea', 'Street', 'Alley', 'LotShape', 'LandContour', 'Utilities', 'LotConfig', 'LandSlope', 'Neighborhood', 'Condition1', 'Condition2', 'BldgType', 'HouseStyle', 'OverallQual', 'OverallCond', 'YearBuilt', 'YearRemodAdd', 'RoofStyle', 'RoofMatl', 'Exterior1st', 'Exterior2nd', 'MasVnrType', 'MasVnrArea', 'ExterQual', 'ExterCond', 'Foundation', 'BsmtQual', 'BsmtCond', 'BsmtExposure', 'BsmtFinType1', 'BsmtFinSF1', 'BsmtFinType2', 'BsmtFinSF2', 'BsmtUnfSF', 'TotalBsmtSF', 'Heating', 'HeatingQC', 'CentralAir', 'Electrical', '1stFlrSF', '2ndFlrSF', 'LowQualFinSF', 'GrLivArea', 'BsmtFullBath', 'BsmtHalfBath', 'FullBath', 'HalfBath', 'BedroomAbvGr', 'KitchenAbvGr', 'KitchenQual', 'TotRmsAbvGrd', 'Functional', 'Fireplaces', 'FireplaceQu', 'GarageType', 'GarageYrBlt', 'GarageFinish', 'GarageCars', 'GarageArea', 'GarageQual', 'GarageCond', 'PavedDrive', 'WoodDeckSF', 'OpenPorchSF', 'EnclosedPorch', '3SsnPorch', 'ScreenPorch', 'PoolArea', 'PoolQC', 'Fence', 'MiscFeature', 'MiscVal', 'MoSold', 'YrSold', 'SaleType', 'SaleCondition', 'LotFrontagenan', 'MasVnrAreanan', 'BsmtFinSF1nan', 'BsmtFinSF2nan', 'BsmtUnfSFnan', 'TotalBsmtSFnan', 'BsmtFullBathnan', 'BsmtHalfBathnan', 'GarageYrBltnan', 'GarageCarsnan', 'GarageAreanan']\n"
     ]
    }
   ],
   "source": [
    "TrainCols = list(dataset.columns.values)\n",
    "TestCols = list(testdataset.columns.values)\n",
    "print(TrainCols)\n",
    "print(TestCols)"
   ]
  },
  {
   "cell_type": "code",
   "execution_count": 47,
   "id": "e476fac9",
   "metadata": {},
   "outputs": [
    {
     "name": "stdout",
     "output_type": "stream",
     "text": [
      "Train Set shape:\n",
      "(1460, 80)\n",
      "(1460, 1)\n",
      "(1459, 80)\n",
      "Train Set shape:\n",
      "(1460, 80)\n",
      "(1460, 1)\n",
      "(1459, 80)\n"
     ]
    }
   ],
   "source": [
    "# Seperate Target column from Train Data\n",
    "Xtrain = dataset.drop(labels= ['SalePrice'], axis = 1)\n",
    "Ytrain = dataset[['SalePrice']].copy()\n",
    "print(\"Train Set shape:\")\n",
    "print(Xtrain.shape)\n",
    "print(Ytrain.shape)\n",
    "Xtest = testdataset.drop(['LotFrontage',\n",
    "'MasVnrArea',\n",
    "'GarageYrBlt',\n",
    "'BsmtFullBathnan',\n",
    "'BsmtHalfBathnan',\n",
    "'BsmtFinSF1nan',\n",
    "'BsmtFinSF2nan',\n",
    "'BsmtUnfSFnan',\n",
    "'TotalBsmtSFnan',\n",
    "'GarageCarsnan',\n",
    "'GarageAreanan'], axis =1)\n",
    "print(Xtest.shape)# Seperate Target column from Train Data\n",
    "Xtrain = dataset.drop(labels= ['SalePrice'], axis = 1)\n",
    "Ytrain = dataset[['SalePrice']].copy()\n",
    "print(\"Train Set shape:\")\n",
    "print(Xtrain.shape)\n",
    "print(Ytrain.shape)\n",
    "Xtest = testdataset.drop(['LotFrontage',\n",
    "'MasVnrArea',\n",
    "'GarageYrBlt',\n",
    "'BsmtFullBathnan',\n",
    "'BsmtHalfBathnan',\n",
    "'BsmtFinSF1nan',\n",
    "'BsmtFinSF2nan',\n",
    "'BsmtUnfSFnan',\n",
    "'TotalBsmtSFnan',\n",
    "'GarageCarsnan',\n",
    "'GarageAreanan'], axis =1)\n",
    "print(Xtest.shape)"
   ]
  },
  {
   "cell_type": "code",
   "execution_count": 49,
   "id": "7f0e457b",
   "metadata": {},
   "outputs": [],
   "source": [
    "from sklearn.model_selection import train_test_split\n",
    "X_train1, X_test1, y_train, y_test = train_test_split(Xtrain, Ytrain, test_size=0.3, random_state=0) "
   ]
  },
  {
   "cell_type": "code",
   "execution_count": 51,
   "id": "1da76dc0",
   "metadata": {},
   "outputs": [
    {
     "data": {
      "text/html": [
       "<div>\n",
       "<style scoped>\n",
       "    .dataframe tbody tr th:only-of-type {\n",
       "        vertical-align: middle;\n",
       "    }\n",
       "\n",
       "    .dataframe tbody tr th {\n",
       "        vertical-align: top;\n",
       "    }\n",
       "\n",
       "    .dataframe thead th {\n",
       "        text-align: right;\n",
       "    }\n",
       "</style>\n",
       "<table border=\"1\" class=\"dataframe\">\n",
       "  <thead>\n",
       "    <tr style=\"text-align: right;\">\n",
       "      <th></th>\n",
       "      <th>Id</th>\n",
       "      <th>MSSubClass</th>\n",
       "      <th>MSZoning</th>\n",
       "      <th>LotArea</th>\n",
       "      <th>Street</th>\n",
       "      <th>Alley</th>\n",
       "      <th>LotShape</th>\n",
       "      <th>LandContour</th>\n",
       "      <th>Utilities</th>\n",
       "      <th>LotConfig</th>\n",
       "      <th>...</th>\n",
       "      <th>Fence</th>\n",
       "      <th>MiscFeature</th>\n",
       "      <th>MiscVal</th>\n",
       "      <th>MoSold</th>\n",
       "      <th>YrSold</th>\n",
       "      <th>SaleType</th>\n",
       "      <th>SaleCondition</th>\n",
       "      <th>LotFrontagenan</th>\n",
       "      <th>MasVnrAreanan</th>\n",
       "      <th>GarageYrBltnan</th>\n",
       "    </tr>\n",
       "  </thead>\n",
       "  <tbody>\n",
       "    <tr>\n",
       "      <th>529</th>\n",
       "      <td>530</td>\n",
       "      <td>20</td>\n",
       "      <td>3</td>\n",
       "      <td>32668</td>\n",
       "      <td>1</td>\n",
       "      <td>2</td>\n",
       "      <td>0</td>\n",
       "      <td>3</td>\n",
       "      <td>0</td>\n",
       "      <td>1</td>\n",
       "      <td>...</td>\n",
       "      <td>4</td>\n",
       "      <td>4</td>\n",
       "      <td>0</td>\n",
       "      <td>3</td>\n",
       "      <td>2007</td>\n",
       "      <td>8</td>\n",
       "      <td>2</td>\n",
       "      <td>0</td>\n",
       "      <td>0</td>\n",
       "      <td>0</td>\n",
       "    </tr>\n",
       "    <tr>\n",
       "      <th>491</th>\n",
       "      <td>492</td>\n",
       "      <td>50</td>\n",
       "      <td>3</td>\n",
       "      <td>9490</td>\n",
       "      <td>1</td>\n",
       "      <td>2</td>\n",
       "      <td>3</td>\n",
       "      <td>3</td>\n",
       "      <td>0</td>\n",
       "      <td>4</td>\n",
       "      <td>...</td>\n",
       "      <td>2</td>\n",
       "      <td>4</td>\n",
       "      <td>0</td>\n",
       "      <td>8</td>\n",
       "      <td>2006</td>\n",
       "      <td>8</td>\n",
       "      <td>4</td>\n",
       "      <td>0</td>\n",
       "      <td>0</td>\n",
       "      <td>0</td>\n",
       "    </tr>\n",
       "    <tr>\n",
       "      <th>459</th>\n",
       "      <td>460</td>\n",
       "      <td>50</td>\n",
       "      <td>3</td>\n",
       "      <td>7015</td>\n",
       "      <td>1</td>\n",
       "      <td>2</td>\n",
       "      <td>0</td>\n",
       "      <td>0</td>\n",
       "      <td>0</td>\n",
       "      <td>0</td>\n",
       "      <td>...</td>\n",
       "      <td>4</td>\n",
       "      <td>4</td>\n",
       "      <td>0</td>\n",
       "      <td>7</td>\n",
       "      <td>2009</td>\n",
       "      <td>8</td>\n",
       "      <td>4</td>\n",
       "      <td>0</td>\n",
       "      <td>0</td>\n",
       "      <td>0</td>\n",
       "    </tr>\n",
       "    <tr>\n",
       "      <th>279</th>\n",
       "      <td>280</td>\n",
       "      <td>60</td>\n",
       "      <td>3</td>\n",
       "      <td>10005</td>\n",
       "      <td>1</td>\n",
       "      <td>2</td>\n",
       "      <td>3</td>\n",
       "      <td>3</td>\n",
       "      <td>0</td>\n",
       "      <td>4</td>\n",
       "      <td>...</td>\n",
       "      <td>4</td>\n",
       "      <td>4</td>\n",
       "      <td>0</td>\n",
       "      <td>3</td>\n",
       "      <td>2008</td>\n",
       "      <td>8</td>\n",
       "      <td>4</td>\n",
       "      <td>0</td>\n",
       "      <td>0</td>\n",
       "      <td>0</td>\n",
       "    </tr>\n",
       "    <tr>\n",
       "      <th>655</th>\n",
       "      <td>656</td>\n",
       "      <td>160</td>\n",
       "      <td>4</td>\n",
       "      <td>1680</td>\n",
       "      <td>1</td>\n",
       "      <td>2</td>\n",
       "      <td>3</td>\n",
       "      <td>3</td>\n",
       "      <td>0</td>\n",
       "      <td>4</td>\n",
       "      <td>...</td>\n",
       "      <td>4</td>\n",
       "      <td>4</td>\n",
       "      <td>0</td>\n",
       "      <td>3</td>\n",
       "      <td>2010</td>\n",
       "      <td>8</td>\n",
       "      <td>3</td>\n",
       "      <td>0</td>\n",
       "      <td>0</td>\n",
       "      <td>0</td>\n",
       "    </tr>\n",
       "    <tr>\n",
       "      <th>...</th>\n",
       "      <td>...</td>\n",
       "      <td>...</td>\n",
       "      <td>...</td>\n",
       "      <td>...</td>\n",
       "      <td>...</td>\n",
       "      <td>...</td>\n",
       "      <td>...</td>\n",
       "      <td>...</td>\n",
       "      <td>...</td>\n",
       "      <td>...</td>\n",
       "      <td>...</td>\n",
       "      <td>...</td>\n",
       "      <td>...</td>\n",
       "      <td>...</td>\n",
       "      <td>...</td>\n",
       "      <td>...</td>\n",
       "      <td>...</td>\n",
       "      <td>...</td>\n",
       "      <td>...</td>\n",
       "      <td>...</td>\n",
       "      <td>...</td>\n",
       "    </tr>\n",
       "    <tr>\n",
       "      <th>271</th>\n",
       "      <td>272</td>\n",
       "      <td>20</td>\n",
       "      <td>3</td>\n",
       "      <td>39104</td>\n",
       "      <td>1</td>\n",
       "      <td>2</td>\n",
       "      <td>0</td>\n",
       "      <td>2</td>\n",
       "      <td>0</td>\n",
       "      <td>1</td>\n",
       "      <td>...</td>\n",
       "      <td>4</td>\n",
       "      <td>4</td>\n",
       "      <td>0</td>\n",
       "      <td>4</td>\n",
       "      <td>2008</td>\n",
       "      <td>8</td>\n",
       "      <td>4</td>\n",
       "      <td>0</td>\n",
       "      <td>0</td>\n",
       "      <td>0</td>\n",
       "    </tr>\n",
       "    <tr>\n",
       "      <th>445</th>\n",
       "      <td>446</td>\n",
       "      <td>20</td>\n",
       "      <td>3</td>\n",
       "      <td>9855</td>\n",
       "      <td>1</td>\n",
       "      <td>2</td>\n",
       "      <td>3</td>\n",
       "      <td>3</td>\n",
       "      <td>0</td>\n",
       "      <td>0</td>\n",
       "      <td>...</td>\n",
       "      <td>2</td>\n",
       "      <td>4</td>\n",
       "      <td>0</td>\n",
       "      <td>11</td>\n",
       "      <td>2009</td>\n",
       "      <td>0</td>\n",
       "      <td>4</td>\n",
       "      <td>0</td>\n",
       "      <td>0</td>\n",
       "      <td>0</td>\n",
       "    </tr>\n",
       "    <tr>\n",
       "      <th>654</th>\n",
       "      <td>655</td>\n",
       "      <td>20</td>\n",
       "      <td>3</td>\n",
       "      <td>10437</td>\n",
       "      <td>1</td>\n",
       "      <td>2</td>\n",
       "      <td>0</td>\n",
       "      <td>3</td>\n",
       "      <td>0</td>\n",
       "      <td>4</td>\n",
       "      <td>...</td>\n",
       "      <td>4</td>\n",
       "      <td>4</td>\n",
       "      <td>0</td>\n",
       "      <td>8</td>\n",
       "      <td>2008</td>\n",
       "      <td>8</td>\n",
       "      <td>4</td>\n",
       "      <td>0</td>\n",
       "      <td>0</td>\n",
       "      <td>0</td>\n",
       "    </tr>\n",
       "    <tr>\n",
       "      <th>1280</th>\n",
       "      <td>1281</td>\n",
       "      <td>20</td>\n",
       "      <td>3</td>\n",
       "      <td>9808</td>\n",
       "      <td>1</td>\n",
       "      <td>2</td>\n",
       "      <td>0</td>\n",
       "      <td>3</td>\n",
       "      <td>0</td>\n",
       "      <td>4</td>\n",
       "      <td>...</td>\n",
       "      <td>4</td>\n",
       "      <td>4</td>\n",
       "      <td>0</td>\n",
       "      <td>3</td>\n",
       "      <td>2009</td>\n",
       "      <td>8</td>\n",
       "      <td>4</td>\n",
       "      <td>0</td>\n",
       "      <td>0</td>\n",
       "      <td>0</td>\n",
       "    </tr>\n",
       "    <tr>\n",
       "      <th>898</th>\n",
       "      <td>899</td>\n",
       "      <td>20</td>\n",
       "      <td>3</td>\n",
       "      <td>12919</td>\n",
       "      <td>1</td>\n",
       "      <td>2</td>\n",
       "      <td>0</td>\n",
       "      <td>3</td>\n",
       "      <td>0</td>\n",
       "      <td>4</td>\n",
       "      <td>...</td>\n",
       "      <td>4</td>\n",
       "      <td>4</td>\n",
       "      <td>0</td>\n",
       "      <td>3</td>\n",
       "      <td>2010</td>\n",
       "      <td>6</td>\n",
       "      <td>5</td>\n",
       "      <td>0</td>\n",
       "      <td>0</td>\n",
       "      <td>0</td>\n",
       "    </tr>\n",
       "  </tbody>\n",
       "</table>\n",
       "<p>438 rows × 80 columns</p>\n",
       "</div>"
      ],
      "text/plain": [
       "        Id  MSSubClass  MSZoning  LotArea  Street  Alley  LotShape  \\\n",
       "529    530          20         3    32668       1      2         0   \n",
       "491    492          50         3     9490       1      2         3   \n",
       "459    460          50         3     7015       1      2         0   \n",
       "279    280          60         3    10005       1      2         3   \n",
       "655    656         160         4     1680       1      2         3   \n",
       "...    ...         ...       ...      ...     ...    ...       ...   \n",
       "271    272          20         3    39104       1      2         0   \n",
       "445    446          20         3     9855       1      2         3   \n",
       "654    655          20         3    10437       1      2         0   \n",
       "1280  1281          20         3     9808       1      2         0   \n",
       "898    899          20         3    12919       1      2         0   \n",
       "\n",
       "      LandContour  Utilities  LotConfig  ...  Fence  MiscFeature  MiscVal  \\\n",
       "529             3          0          1  ...      4            4        0   \n",
       "491             3          0          4  ...      2            4        0   \n",
       "459             0          0          0  ...      4            4        0   \n",
       "279             3          0          4  ...      4            4        0   \n",
       "655             3          0          4  ...      4            4        0   \n",
       "...           ...        ...        ...  ...    ...          ...      ...   \n",
       "271             2          0          1  ...      4            4        0   \n",
       "445             3          0          0  ...      2            4        0   \n",
       "654             3          0          4  ...      4            4        0   \n",
       "1280            3          0          4  ...      4            4        0   \n",
       "898             3          0          4  ...      4            4        0   \n",
       "\n",
       "      MoSold  YrSold  SaleType  SaleCondition  LotFrontagenan  MasVnrAreanan  \\\n",
       "529        3    2007         8              2               0              0   \n",
       "491        8    2006         8              4               0              0   \n",
       "459        7    2009         8              4               0              0   \n",
       "279        3    2008         8              4               0              0   \n",
       "655        3    2010         8              3               0              0   \n",
       "...      ...     ...       ...            ...             ...            ...   \n",
       "271        4    2008         8              4               0              0   \n",
       "445       11    2009         0              4               0              0   \n",
       "654        8    2008         8              4               0              0   \n",
       "1280       3    2009         8              4               0              0   \n",
       "898        3    2010         6              5               0              0   \n",
       "\n",
       "      GarageYrBltnan  \n",
       "529                0  \n",
       "491                0  \n",
       "459                0  \n",
       "279                0  \n",
       "655                0  \n",
       "...              ...  \n",
       "271                0  \n",
       "445                0  \n",
       "654                0  \n",
       "1280               0  \n",
       "898                0  \n",
       "\n",
       "[438 rows x 80 columns]"
      ]
     },
     "execution_count": 51,
     "metadata": {},
     "output_type": "execute_result"
    }
   ],
   "source": [
    "X_test1"
   ]
  },
  {
   "cell_type": "code",
   "execution_count": 53,
   "id": "04a25f4b",
   "metadata": {},
   "outputs": [
    {
     "name": "stdout",
     "output_type": "stream",
     "text": [
      "RMSE (training) for Decision Tree:  0.000000\n",
      "RMSE (Test Data) for Decision Tree:1311700178.655251\n"
     ]
    }
   ],
   "source": [
    "#Decision Tree Regressor ========================================================================\n",
    "#CONSTRUCT DEFAULT DECISION TREE AND OBTAIN RESPECTIVE ACCURACY \n",
    "from sklearn.tree import DecisionTreeRegressor\n",
    "from sklearn.metrics import mean_squared_error\n",
    "\n",
    "clf = DecisionTreeRegressor()\n",
    "clf.fit(X_train1, y_train)\n",
    "clf_predict_Train=clf.predict(X_train1)\n",
    "\n",
    "#clf.feature_importances_\n",
    "mean_squared_error(y_train,clf_predict_Train)\n",
    "print(\"RMSE (training) for Decision Tree:{0:10f}\".format(mean_squared_error(y_train,clf_predict_Train)))\n",
    "clf_predict_Test=clf.predict(X_test1)\n",
    "mean_squared_error(y_test,clf_predict_Test)\n",
    "print(\"RMSE (Test Data) for Decision Tree:{0:10f}\".format(mean_squared_error(y_test,clf_predict_Test)))\n"
   ]
  },
  {
   "cell_type": "code",
   "execution_count": 55,
   "id": "65378436",
   "metadata": {},
   "outputs": [],
   "source": [
    "clf_predict_Test=clf.predict(Xtest)"
   ]
  },
  {
   "cell_type": "code",
   "execution_count": 57,
   "id": "47e744f1",
   "metadata": {},
   "outputs": [],
   "source": [
    "submission=testdataset[['Id']]\n",
    "submission['SalePrice']=clf_predict_Test\n",
    "submission.to_csv(\"results2.1.csv\", index = None)"
   ]
  },
  {
   "cell_type": "code",
   "execution_count": 59,
   "id": "51eee4e8",
   "metadata": {},
   "outputs": [
    {
     "name": "stdout",
     "output_type": "stream",
     "text": [
      "RMSE (training) for Random Forest:137509390.183133\n",
      "RMSE (Test Data) for Random Forest:889008068.001869\n"
     ]
    }
   ],
   "source": [
    "#Random Forest Regressor==============================================================================\n",
    "#=================================================================================================\n",
    "from sklearn.ensemble import RandomForestRegressor\n",
    "rfc = RandomForestRegressor()\n",
    "rfc.fit(X_train1, y_train)\n",
    "rfc_predict_Train=rfc.predict(X_train1)\n",
    "\n",
    "mean_squared_error(y_train,rfc_predict_Train)\n",
    "print(\"RMSE (training) for Random Forest:{0:10f}\".format(mean_squared_error(y_train,rfc_predict_Train)))\n",
    "rfc_predict_Test=rfc.predict(X_test1)\n",
    "mean_squared_error(y_test,rfc_predict_Test)\n",
    "print(\"RMSE (Test Data) for Random Forest:{0:10f}\".format(mean_squared_error(y_test,rfc_predict_Test)))\n",
    "\n"
   ]
  },
  {
   "cell_type": "code",
   "execution_count": 62,
   "id": "ec9743cb",
   "metadata": {},
   "outputs": [],
   "source": [
    "rfc_predict_test = rfc.predict(Xtest)"
   ]
  },
  {
   "cell_type": "code",
   "execution_count": 64,
   "id": "886cb76e",
   "metadata": {},
   "outputs": [],
   "source": [
    "submission=testdataset[['Id']]\n",
    "submission['SalePrice']=rfc_predict_test\n",
    "submission.to_csv(\"results2.2.csv\", index = None)"
   ]
  },
  {
   "cell_type": "code",
   "execution_count": 67,
   "id": "37320393",
   "metadata": {},
   "outputs": [
    {
     "name": "stdout",
     "output_type": "stream",
     "text": [
      "RMSE (training) for linear regressor:722984729.811340\n",
      "RMSE (Test) for all linear regressor:2271200438.749049\n"
     ]
    }
   ],
   "source": [
    "from sklearn.linear_model import LinearRegression\n",
    "lr=LinearRegression()\n",
    "lr.fit(X_train1,y_train)\n",
    "lr_predict_train=lr.predict(X_train1)\n",
    "\n",
    "mean_squared_error(y_train, lr_predict_train)\n",
    "print(\"RMSE (training) for linear regressor:{0:10f}\".format(mean_squared_error(y_train,lr_predict_train)))\n",
    "lr_predict_test = lr.predict(X_test1)\n",
    "mean_squared_error(y_test,lr_predict_test)\n",
    "print(\"RMSE (Test) for all linear regressor:{}\".format(mean_squared_error(y_test,lr_predict_test)))"
   ]
  },
  {
   "cell_type": "code",
   "execution_count": 69,
   "id": "cccf13a5",
   "metadata": {},
   "outputs": [],
   "source": [
    "lr_predict_test1 = lr.predict(Xtest)"
   ]
  },
  {
   "cell_type": "code",
   "execution_count": 71,
   "id": "6e5bf0ac",
   "metadata": {},
   "outputs": [],
   "source": [
    "submission=testdataset[['Id']]\n",
    "submission['SalePrice']=lr_predict_test1\n",
    "submission.to_csv(\"results2.3.csv\", index = None)"
   ]
  },
  {
   "cell_type": "code",
   "execution_count": 73,
   "id": "fd98ae29",
   "metadata": {},
   "outputs": [
    {
     "name": "stdout",
     "output_type": "stream",
     "text": [
      "RMSE (Train) for MLP :{} 2315145937.6756916\n",
      "RMSE (Test) for MLP:{} 3074035851.607442\n"
     ]
    }
   ],
   "source": [
    "from sklearn.neural_network import MLPRegressor\n",
    "mlp=MLPRegressor()\n",
    "mlp.fit(X_train1,y_train)\n",
    "mlp_predict_train = mlp.predict(X_train1)\n",
    "\n",
    "mean_squared_error(y_train,mlp_predict_train)\n",
    "print(\"RMSE (Train) for MLP :{}\",mean_squared_error(y_train,mlp_predict_train))\n",
    "mlp_predict_test = mlp.predict(X_test1)\n",
    "mean_squared_error(y_test,mlp_predict_test)\n",
    "print(\"RMSE (Test) for MLP:{}\",mean_squared_error(y_test,mlp_predict_test))"
   ]
  },
  {
   "cell_type": "code",
   "execution_count": 75,
   "id": "cc2816c3",
   "metadata": {},
   "outputs": [],
   "source": [
    "mlp_predict_test1 = mlp.predict(Xtest)\n",
    "submission=testdataset[['Id']]\n",
    "submission['SalePrice']=mlp_predict_test1\n",
    "submission.to_csv(\"results2.5.csv\", index = None)"
   ]
  },
  {
   "cell_type": "code",
   "execution_count": 77,
   "id": "6ebdd347",
   "metadata": {},
   "outputs": [
    {
     "name": "stdout",
     "output_type": "stream",
     "text": [
      "RMSE (Train) for SVR :{} 6407310408.975444\n",
      "RMSE (Test) for SVR:{} 7136965028.321759\n"
     ]
    }
   ],
   "source": [
    "from sklearn.svm import SVR\n",
    "svr=SVR()\n",
    "svr.fit(X_train1,y_train)\n",
    "svr_predict_train = svr.predict(X_train1)\n",
    "\n",
    "mean_squared_error(y_train,svr_predict_train)\n",
    "print(\"RMSE (Train) for SVR :{}\",mean_squared_error(y_train,svr_predict_train))\n",
    "svr_predict_test = svr.predict(X_test1)\n",
    "mean_squared_error(y_test,svr_predict_test)\n",
    "print(\"RMSE (Test) for SVR:{}\",mean_squared_error(y_test,svr_predict_test))"
   ]
  },
  {
   "cell_type": "markdown",
   "id": "0823d3a7",
   "metadata": {},
   "source": [
    "### Gradient Descent Booster"
   ]
  },
  {
   "cell_type": "code",
   "execution_count": 79,
   "id": "fa17b26d",
   "metadata": {},
   "outputs": [
    {
     "name": "stdout",
     "output_type": "stream",
     "text": [
      "RMSE (Train) for SGD :{} 4.550189819103496e+32\n",
      "RMSE (Test) for SGD:{} 4.501248293815367e+32\n"
     ]
    }
   ],
   "source": [
    "from sklearn.linear_model import SGDRegressor\n",
    "sgd=SGDRegressor()\n",
    "sgd.fit(X_train1,y_train)\n",
    "sgd_predict_train = sgd.predict(X_train1)\n",
    "\n",
    "mean_squared_error(y_train,sgd_predict_train)\n",
    "print(\"RMSE (Train) for SGD :{}\",mean_squared_error(y_train,sgd_predict_train))\n",
    "sgd_predict_test = sgd.predict(X_test1)\n",
    "mean_squared_error(y_test,sgd_predict_test)\n",
    "print(\"RMSE (Test) for SGD:{}\",mean_squared_error(y_test,sgd_predict_test))"
   ]
  },
  {
   "cell_type": "code",
   "execution_count": 81,
   "id": "24086860",
   "metadata": {},
   "outputs": [
    {
     "name": "stdout",
     "output_type": "stream",
     "text": [
      "___________________________________________________________________________________________\n",
      "Ensemble Methods Predictions using GradientBoosting, RandomForest and Decision Tree Classifier\n",
      "\n",
      "task:         [regression]\n",
      "metric:       [mean_absolute_error]\n",
      "mode:         [oof_pred_bag]\n",
      "n_models:     [4]\n",
      "\n",
      "model  0:     [RandomForestRegressor]\n",
      "    fold  0:  [19044.33875000]\n",
      "    fold  1:  [16986.77003906]\n",
      "    fold  2:  [18344.78290196]\n",
      "    fold  3:  [16495.81427451]\n",
      "    ----\n",
      "    MEAN:     [17717.92649138] + [1022.30945262]\n",
      "    FULL:     [17718.50893346]\n",
      "\n",
      "model  1:     [DecisionTreeRegressor]\n",
      "    fold  0:  [27548.60937500]\n",
      "    fold  1:  [28833.03125000]\n",
      "    fold  2:  [29791.63529412]\n",
      "    fold  3:  [30058.03529412]\n",
      "    ----\n",
      "    MEAN:     [29057.82780331] + [983.25508046]\n",
      "    FULL:     [29056.13111546]\n",
      "\n",
      "model  2:     [MLPRegressor]\n",
      "    fold  0:  [42586.75260922]\n",
      "    fold  1:  [36354.17973529]\n",
      "    fold  2:  [41429.56272864]\n",
      "    fold  3:  [35357.06753469]\n",
      "    ----\n",
      "    MEAN:     [38931.89065196] + [3123.31296939]\n",
      "    FULL:     [38932.94461580]\n",
      "\n",
      "model  3:     [LinearRegression]\n",
      "    fold  0:  [22484.48374282]\n",
      "    fold  1:  [18735.26281337]\n",
      "    fold  2:  [19551.09747894]\n",
      "    fold  3:  [19821.92883587]\n",
      "    ----\n",
      "    MEAN:     [20148.19321775] + [1406.91129014]\n",
      "    FULL:     [20149.09670124]\n",
      "\n"
     ]
    }
   ],
   "source": [
    "#STACKING MODELS =====================================================================\n",
    "print(\"___________________________________________________________________________________________\\nEnsemble Methods Predictions using GradientBoosting, RandomForest and Decision Tree Classifier\\n\")\n",
    "\n",
    "models = [  RandomForestRegressor(), DecisionTreeRegressor(), MLPRegressor(), LinearRegression() ]\n",
    "      \n",
    "S_Train, S_Test = stacking(models,                   \n",
    "                           X_train1, y_train, X_test1,   \n",
    "                           regression=True, \n",
    "     \n",
    "                           mode='oof_pred_bag', \n",
    "       \n",
    "                           needs_proba=False,\n",
    "         \n",
    "                           save_dir=None, \n",
    "                                        \n",
    "                           n_folds=4, \n",
    "                                                    \n",
    "                           verbose=2, shuffle=True)\n",
    "\n"
   ]
  },
  {
   "cell_type": "code",
   "execution_count": 83,
   "id": "65b06b2f",
   "metadata": {},
   "outputs": [],
   "source": [
    "#STACKING - CONTRUCT A Random Forest MODEL==============================\n",
    "model = RandomForestRegressor()\n",
    "    \n",
    "model = model.fit(S_Train, y_train)\n",
    "y_pred_train = model.predict(S_Train)\n",
    "y_pred_test = model.predict(S_Test)"
   ]
  },
  {
   "cell_type": "code",
   "execution_count": 85,
   "id": "e97d3912",
   "metadata": {},
   "outputs": [
    {
     "name": "stdout",
     "output_type": "stream",
     "text": [
      "RMSE (training) for Decision Tree:111271885.999746\n",
      "RMSE (Test Data) for Decision Tree:702761671.312184\n"
     ]
    }
   ],
   "source": [
    "mean_squared_error(y_train,y_pred_train)\n",
    "print(\"RMSE (training) for Decision Tree:{0:10f}\".format(mean_squared_error(y_train,y_pred_train)))\n",
    "mean_squared_error(y_test,y_pred_test)\n",
    "print(\"RMSE (Test Data) for Decision Tree:{0:10f}\".format(mean_squared_error(y_test,y_pred_test)))"
   ]
  },
  {
   "cell_type": "code",
   "execution_count": 87,
   "id": "2da30fdd",
   "metadata": {},
   "outputs": [
    {
     "name": "stdout",
     "output_type": "stream",
     "text": [
      "RMSE (training) for Decision Tree:  0.000000\n",
      "RMSE (Test Data) for Decision Tree:983051834.515982\n"
     ]
    }
   ],
   "source": [
    "#STACKING - CONTRUCT A Random Forest MODEL==============================\n",
    "model = DecisionTreeRegressor()\n",
    "    \n",
    "model = model.fit(S_Train, y_train)\n",
    "y_pred_train = model.predict(S_Train)\n",
    "y_pred_test = model.predict(S_Test)\n",
    "\n",
    "mean_squared_error(y_train,y_pred_train)\n",
    "print(\"RMSE (training) for Decision Tree:{0:10f}\".format(mean_squared_error(y_train,y_pred_train)))\n",
    "mean_squared_error(y_test,y_pred_test)\n",
    "print(\"RMSE (Test Data) for Decision Tree:{0:10f}\".format(mean_squared_error(y_test,y_pred_test)))\n"
   ]
  },
  {
   "cell_type": "code",
   "execution_count": 89,
   "id": "11656f34",
   "metadata": {},
   "outputs": [
    {
     "name": "stdout",
     "output_type": "stream",
     "text": [
      "RMSE (training) for Decision Tree:736169835.450675\n",
      "RMSE (Test Data) for Decision Tree:1059305295.096684\n"
     ]
    }
   ],
   "source": [
    "#STACKING - CONTRUCT A Random Forest MODEL==============================\n",
    "model = MLPRegressor()\n",
    "    \n",
    "model = model.fit(S_Train, y_train)\n",
    "y_pred_train = model.predict(S_Train)\n",
    "y_pred_test = model.predict(S_Test)\n",
    "\n",
    "mean_squared_error(y_train,y_pred_train)\n",
    "print(\"RMSE (training) for Decision Tree:{0:10f}\".format(mean_squared_error(y_train,y_pred_train)))\n",
    "mean_squared_error(y_test,y_pred_test)\n",
    "print(\"RMSE (Test Data) for Decision Tree:{0:10f}\".format(mean_squared_error(y_test,y_pred_test)))\n"
   ]
  },
  {
   "cell_type": "code",
   "execution_count": 91,
   "id": "5d64c6d1",
   "metadata": {},
   "outputs": [
    {
     "name": "stdout",
     "output_type": "stream",
     "text": [
      "RMSE (training) for Decision Tree:775034090.656805\n",
      "RMSE (Test Data) for Decision Tree:1035793995.733554\n"
     ]
    }
   ],
   "source": [
    "#STACKING - CONTRUCT A Random Forest MODEL==============================\n",
    "model = LinearRegression()\n",
    "    \n",
    "model = model.fit(S_Train, y_train)\n",
    "y_pred_train = model.predict(S_Train)\n",
    "y_pred_test = model.predict(S_Test)\n",
    "\n",
    "mean_squared_error(y_train,y_pred_train)\n",
    "print(\"RMSE (training) for Decision Tree:{0:10f}\".format(mean_squared_error(y_train,y_pred_train)))\n",
    "mean_squared_error(y_test,y_pred_test)\n",
    "print(\"RMSE (Test Data) for Decision Tree:{0:10f}\".format(mean_squared_error(y_test,y_pred_test)))\n"
   ]
  },
  {
   "cell_type": "code",
   "execution_count": 93,
   "id": "f14d1316",
   "metadata": {},
   "outputs": [
    {
     "name": "stdout",
     "output_type": "stream",
     "text": [
      "___________________________________________________________________________________________\n",
      "Ensemble Methods Predictions using GradientBoosting, RandomForest and Decision Tree Classifier\n",
      "\n",
      "task:         [regression]\n",
      "metric:       [mean_absolute_error]\n",
      "mode:         [oof_pred_bag]\n",
      "n_models:     [4]\n",
      "\n",
      "model  0:     [RandomForestRegressor]\n",
      "    fold  0:  [19146.92101563]\n",
      "    fold  1:  [17397.70707031]\n",
      "    fold  2:  [18622.10556863]\n",
      "    fold  3:  [16948.64713725]\n",
      "    ----\n",
      "    MEAN:     [18028.84519795] + [889.83349397]\n",
      "    FULL:     [18029.32165362]\n",
      "\n",
      "model  1:     [DecisionTreeRegressor]\n",
      "    fold  0:  [27174.24609375]\n",
      "    fold  1:  [29670.89062500]\n",
      "    fold  2:  [28375.60392157]\n",
      "    fold  3:  [30375.63137255]\n",
      "    ----\n",
      "    MEAN:     [28899.09300322] + [1227.29120473]\n",
      "    FULL:     [28898.16046967]\n",
      "\n",
      "model  2:     [MLPRegressor]\n",
      "    fold  0:  [42138.97300666]\n",
      "    fold  1:  [36944.33329407]\n",
      "    fold  2:  [40084.72400148]\n",
      "    fold  3:  [35508.19717548]\n",
      "    ----\n",
      "    MEAN:     [38669.05686942] + [2598.56387474]\n",
      "    FULL:     [38670.76449424]\n",
      "\n",
      "model  3:     [LinearRegression]\n",
      "    fold  0:  [22484.48374282]\n",
      "    fold  1:  [18735.26281337]\n",
      "    fold  2:  [19551.09747894]\n",
      "    fold  3:  [19821.92883587]\n",
      "    ----\n",
      "    MEAN:     [20148.19321775] + [1406.91129014]\n",
      "    FULL:     [20149.09670124]\n",
      "\n"
     ]
    }
   ],
   "source": [
    "#STACKING MODELS =====================================================================\n",
    "print(\"___________________________________________________________________________________________\\nEnsemble Methods Predictions using GradientBoosting, RandomForest and Decision Tree Classifier\\n\")\n",
    "\n",
    "models = [  RandomForestRegressor(), DecisionTreeRegressor(), MLPRegressor(), LinearRegression() ]\n",
    "      \n",
    "Q_Train, Q_Test = stacking(models,                   \n",
    "                           X_train1, y_train, Xtest,   \n",
    "                           regression=True, \n",
    "     \n",
    "                           mode='oof_pred_bag', \n",
    "       \n",
    "                           needs_proba=False,\n",
    "         \n",
    "                           save_dir=None, \n",
    "                                        \n",
    "                           n_folds=4, \n",
    "                                                    \n",
    "                           verbose=2, shuffle=True)\n",
    "\n"
   ]
  },
  {
   "cell_type": "code",
   "execution_count": 96,
   "id": "e9f09cc3",
   "metadata": {},
   "outputs": [
    {
     "name": "stdout",
     "output_type": "stream",
     "text": [
      "RMSE (training) for Decision Tree:121966600.531236\n"
     ]
    }
   ],
   "source": [
    "#STACKING - CONTRUCT A Random Forest MODEL==============================\n",
    "model1 = RandomForestRegressor()\n",
    "    \n",
    "model1 = model1.fit(Q_Train, y_train)\n",
    "y_pred_train = model1.predict(Q_Train)\n",
    "y_pred_test = model1.predict(Q_Test)\n",
    "\n",
    "mean_squared_error(y_train,y_pred_train)\n",
    "print(\"RMSE (training) for Decision Tree:{0:10f}\".format(mean_squared_error(y_train,y_pred_train)))\n"
   ]
  },
  {
   "cell_type": "code",
   "execution_count": 97,
   "id": "37cb6c87",
   "metadata": {},
   "outputs": [],
   "source": [
    "submission=testdataset[['Id']]\n",
    "submission['SalePrice']=y_pred_test\n",
    "submission.to_csv(\"results2.6.csv\", index = None)"
   ]
  },
  {
   "cell_type": "code",
   "execution_count": 98,
   "id": "a17e8963",
   "metadata": {},
   "outputs": [
    {
     "name": "stdout",
     "output_type": "stream",
     "text": [
      "RMSE (train) for Decision Tree Regressor:0.0\n"
     ]
    }
   ],
   "source": [
    "model2 = DecisionTreeRegressor()\n",
    "\n",
    "model2 = model2.fit(Q_Train,y_train)\n",
    "y_predict_train = model2.predict(Q_Train)\n",
    "Y_predict_test = model2.predict(Q_Test)\n",
    "mean_squared_error(y_train,y_predict_train)\n",
    "print('RMSE (train) for Decision Tree Regressor:{}'.format(mean_squared_error(y_train,y_predict_train)))"
   ]
  },
  {
   "cell_type": "code",
   "execution_count": 99,
   "id": "a7bdd180",
   "metadata": {},
   "outputs": [],
   "source": [
    "submission=testdataset[['Id']]\n",
    "submission['SalePrice']=Y_predict_test\n",
    "submission.to_csv(\"results2.7.csv\", index = None)"
   ]
  },
  {
   "cell_type": "code",
   "execution_count": 100,
   "id": "55cb765e",
   "metadata": {},
   "outputs": [
    {
     "name": "stdout",
     "output_type": "stream",
     "text": [
      "RMSE (Train) for MLP Regressor796578308.4989439\n"
     ]
    }
   ],
   "source": [
    "model3 = MLPRegressor()\n",
    "\n",
    "model3 = model3.fit(Q_Train, y_train)\n",
    "y_predict_train3 = model3.predict(Q_Train)\n",
    "y_predict_test3 = model3.predict(Q_Test)\n",
    "mean_squared_error(y_train,y_predict_train3)\n",
    "print(\"RMSE (Train) for MLP Regressor{}\".format(mean_squared_error(y_train,y_predict_train3)))\n"
   ]
  },
  {
   "cell_type": "code",
   "execution_count": 101,
   "id": "033d32b2",
   "metadata": {},
   "outputs": [
    {
     "data": {
      "text/plain": [
       "0                                                         1461\n",
       "1                                                         1462\n",
       "2                                                         1463\n",
       "3                                                         1464\n",
       "4                                                         1465\n",
       "                                   ...                        \n",
       "1455                                                      2916\n",
       "1456                                                      2917\n",
       "1457                                                      2918\n",
       "1458                                                      2919\n",
       "SalePrice    [775194.2794546046, 775694.9777252866, 775691....\n",
       "Name: Id, Length: 1460, dtype: object"
      ]
     },
     "execution_count": 101,
     "metadata": {},
     "output_type": "execute_result"
    }
   ],
   "source": [
    "submissions= testdataset['Id']\n",
    "submissions['SalePrice']=y_predict_test3\n",
    "submissions.to_csv(\"results2.8.csv\", index = None)\n",
    "submissions"
   ]
  },
  {
   "cell_type": "code",
   "execution_count": 102,
   "id": "7a6419fd",
   "metadata": {},
   "outputs": [
    {
     "name": "stdout",
     "output_type": "stream",
     "text": [
      "RMSE (Train) for MLP Regressor813988971.1270338\n"
     ]
    }
   ],
   "source": [
    "model4 = MLPRegressor()\n",
    "\n",
    "model4 = model4.fit(Q_Train, y_train)\n",
    "y_predict_train4 = model4.predict(Q_Train)\n",
    "y_predict_test4 = model4.predict(Q_Test)\n",
    "mean_squared_error(y_train,y_predict_train4)\n",
    "print(\"RMSE (Train) for MLP Regressor{}\".format(mean_squared_error(y_train,y_predict_train4)))"
   ]
  },
  {
   "cell_type": "code",
   "execution_count": 103,
   "id": "8f0b971d",
   "metadata": {},
   "outputs": [],
   "source": [
    "submission=testdataset[['Id']]\n",
    "submission['SalePrice']=y_predict_test4\n",
    "submission.to_csv(\"results2.10.csv\", index = None)"
   ]
  },
  {
   "cell_type": "code",
   "execution_count": null,
   "id": "a01b0ffd",
   "metadata": {},
   "outputs": [],
   "source": []
  }
 ],
 "metadata": {
  "kernelspec": {
   "display_name": "Python 3 (ipykernel)",
   "language": "python",
   "name": "python3"
  },
  "language_info": {
   "codemirror_mode": {
    "name": "ipython",
    "version": 3
   },
   "file_extension": ".py",
   "mimetype": "text/x-python",
   "name": "python",
   "nbconvert_exporter": "python",
   "pygments_lexer": "ipython3",
   "version": "3.9.13"
  }
 },
 "nbformat": 4,
 "nbformat_minor": 5
}
